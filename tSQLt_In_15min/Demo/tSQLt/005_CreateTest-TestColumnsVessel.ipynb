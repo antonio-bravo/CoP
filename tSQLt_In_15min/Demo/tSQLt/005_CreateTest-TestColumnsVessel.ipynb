{
    "metadata": {
        "kernelspec": {
            "name": "SQL",
            "display_name": "SQL",
            "language": "sql"
        },
        "language_info": {
            "name": "sql",
            "version": ""
        }
    },
    "nbformat_minor": 2,
    "nbformat": 4,
    "cells": [
        {
            "cell_type": "markdown",
            "source": [
                "Cleanup"
            ],
            "metadata": {
                "azdata_cell_guid": "41b997ac-da81-4574-9c6f-2d5b293e66b7"
            }
        },
        {
            "cell_type": "code",
            "source": [
                "USE SSDTWithtSQLt\r\n",
                "GO\r\n",
                "DROP PROCEDURE IF EXISTS [TestBasic].[test If table dbo.Vessel has the correct columns];"
            ],
            "metadata": {
                "azdata_cell_guid": "4073dffc-6a35-4562-89d1-ef9934890e9d"
            },
            "outputs": [],
            "execution_count": null
        },
        {
            "cell_type": "markdown",
            "source": [
                "Create the test"
            ],
            "metadata": {
                "azdata_cell_guid": "2d025d37-1dec-4cc7-91fb-eea108a615c7"
            }
        },
        {
            "cell_type": "code",
            "source": [
                "USE SSDTWithtSQLt\r\n",
                "GO\r\n",
                "CREATE PROCEDURE [TestBasic].[test If table dbo.Vessel has the correct columns]\r\n",
                "AS\r\n",
                "/*\r\n",
                "<documentation>\r\n",
                "  <author>ABM040</author>\r\n",
                "  <summary>test if dbo.Vessel has the correct columns</summary>\r\n",
                "  <returns>nothing</returns>\r\n",
                "</documentation>\r\n",
                "\r\n",
                "Changes:\r\n",
                "Date\t\tWho\t\t\t\t\t\tNotes\r\n",
                "----------\t---\t\t\t\t\t\t--------------------------------------------------------------\r\n",
                "20210714\tABM040\t\t\t\t    Creation\r\n",
                "*/\r\n",
                "    SET NOCOUNT ON;\r\n",
                "\r\n",
                "    ----- ASSEMBLE -----------------------------------------------\r\n",
                "    -- Create the tables\r\n",
                "    CREATE TABLE #actual\r\n",
                "    (\r\n",
                "        [ColumnName] sysname NOT NULL,\r\n",
                "        [DataType] sysname NOT NULL,\r\n",
                "        [LengthSize] SMALLINT NOT NULL,\r\n",
                "        [Precision] TINYINT NOT NULL\r\n",
                "    );\r\n",
                "\r\n",
                "    CREATE TABLE #expected\r\n",
                "    (\r\n",
                "        [ColumnName] sysname NOT NULL,\r\n",
                "        [DataType] sysname NOT NULL,\r\n",
                "        [LengthSize] SMALLINT NOT NULL,\r\n",
                "        [Precision] TINYINT NOT NULL\r\n",
                "    );\r\n",
                "\r\n",
                "    INSERT INTO #expected\r\n",
                "    (\r\n",
                "        ColumnName\r\n",
                "    ,DataType\r\n",
                "    ,LengthSize\r\n",
                "    ,Precision\r\n",
                "    )\r\n",
                "    VALUES\r\n",
                "    (\r\n",
                "        'VesselID'\t\t-- ColumnName - sysname\r\n",
                "        ,'int'\t\t\t-- DataType - sysname\r\n",
                "        ,4\t\t\t\t-- LengthSize - smallint\r\n",
                "        ,10\t\t\t\t-- Precision - tinyint\r\n",
                "    ),\r\n",
                "    (\r\n",
                "        'VesselCode'\t-- ColumnName - sysname\r\n",
                "    ,'char'\t\t\t-- DataType - sysname\r\n",
                "    ,3\t\t\t\t-- LengthSize - smallint\r\n",
                "    ,0\t\t\t\t-- Precision - tinyint\r\n",
                "    ),\r\n",
                "    (\r\n",
                "        'VesselName'\t-- ColumnName - sysname\r\n",
                "    ,'varchar'\t\t-- DataType - sysname\r\n",
                "    ,30\t\t\t\t-- LengthSize - smallint\r\n",
                "    ,0\t\t\t\t-- Precision - tinyint\r\n",
                "    ),\r\n",
                "    (\r\n",
                "        'TEU'\t\t\t-- ColumnName - sysname\r\n",
                "    ,'int'\t\t\t-- DataType - sysname\r\n",
                "    ,4\t\t\t\t-- LengthSize - smallint\r\n",
                "    ,10\t\t\t\t-- Precision - tinyint\r\n",
                "    ),\r\n",
                "    (\r\n",
                "        'Plug'\t\t\t-- ColumnName - sysname\r\n",
                "    ,'int'\t\t\t-- DataType - sysname\r\n",
                "    ,4\t\t\t\t-- LengthSize - smallint\r\n",
                "    ,10\t\t\t\t-- Precision - tinyint\r\n",
                "    ),\r\n",
                "    (\r\n",
                "        'OperatorID'\t-- ColumnName - sysname\r\n",
                "    ,'int'\t\t\t-- DataType - sysname\r\n",
                "    ,4\t\t\t\t-- LengthSize - smallint\r\n",
                "    ,10\t\t\t\t-- Precision - tinyint\r\n",
                "    );\r\n",
                "    ----- ACT ----------------------------------------------------\r\n",
                "\r\n",
                "    INSERT INTO #actual\r\n",
                "    (\r\n",
                "        ColumnName\r\n",
                "    ,DataType\r\n",
                "    ,LengthSize\r\n",
                "    ,Precision\r\n",
                "    )\r\n",
                "    SELECT c.name                  AS ColumnName\r\n",
                "        ,st.name                 AS DataType\r\n",
                "        ,c.max_length            AS LengthSize\r\n",
                "        ,c.precision             AS [Precision]\r\n",
                "    FROM   sys.columns             AS c\r\n",
                "        INNER JOIN sys.tables   AS t ON  t.object_id = c.object_id\r\n",
                "        INNER JOIN sys.schemas  AS s ON  s.schema_id = t.schema_id\r\n",
                "        LEFT JOIN sys.types     AS st ON  st.user_type_id = c.user_type_id\r\n",
                "    WHERE  t.type = 'U'\r\n",
                "        AND s.name = 'dbo'\r\n",
                "        AND t.name = 'Vessel'\r\n",
                "    ORDER BY\r\n",
                "        t.name\r\n",
                "        ,c.name\r\n",
                "\r\n",
                "\r\n",
                "    ----- ASSERT -------------------------------------------------\r\n",
                "\r\n",
                "    -- Assert to have th same table\r\n",
                "    EXEC tSQLt.AssertEqualsTable @Expected = '#expected', @Actual = '#actual';\r\n",
                "\r\n",
                "GO"
            ],
            "metadata": {
                "azdata_cell_guid": "352c1f04-2120-4a49-a0c5-addde6d5b21a"
            },
            "outputs": [],
            "execution_count": null
        },
        {
            "cell_type": "markdown",
            "source": [
                "Run this test"
            ],
            "metadata": {
                "azdata_cell_guid": "5cc134ff-c635-4a72-85d3-0616f31d7f92"
            }
        },
        {
            "cell_type": "code",
            "source": [
                "EXEC tSQLt.Run @TestName = N'[TestBasic].[test If table dbo.Vessel has the correct columns]';"
            ],
            "metadata": {
                "azdata_cell_guid": "d60c0b96-cfbd-473b-bc67-823b59f6e17a"
            },
            "outputs": [],
            "execution_count": null
        },
        {
            "cell_type": "markdown",
            "source": [
                "Run all the tests"
            ],
            "metadata": {
                "azdata_cell_guid": "86de6299-0ebe-40db-8722-2f3cf0057677"
            }
        },
        {
            "cell_type": "code",
            "source": [
                "EXEC tSQLt.RunAll;"
            ],
            "metadata": {
                "azdata_cell_guid": "4949be37-9053-4c21-a07e-5d1f04401b68"
            },
            "outputs": [],
            "execution_count": null
        }
    ]
}