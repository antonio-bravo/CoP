{
    "metadata": {
        "kernelspec": {
            "name": "SQL",
            "display_name": "SQL",
            "language": "sql"
        },
        "language_info": {
            "name": "sql",
            "version": ""
        }
    },
    "nbformat_minor": 2,
    "nbformat": 4,
    "cells": [
        {
            "cell_type": "markdown",
            "source": [
                "Cleanup"
            ],
            "metadata": {
                "azdata_cell_guid": "f38865dc-621f-427d-805e-5c4c88b0a93b"
            }
        },
        {
            "cell_type": "code",
            "source": [
                "USE SSDTWithtSQLt\r\n",
                "GO\r\n",
                "DROP PROC IF EXISTS [TestUnitTesting].[test Vessel - Get all Vessels Expect success];\r\n",
                "GO"
            ],
            "metadata": {
                "azdata_cell_guid": "5e586772-05bb-4b74-8fa9-8e257cd0baeb"
            },
            "outputs": [
                {
                    "output_type": "display_data",
                    "data": {
                        "text/html": "Commands completed successfully."
                    },
                    "metadata": {}
                },
                {
                    "output_type": "display_data",
                    "data": {
                        "text/html": "Commands completed successfully."
                    },
                    "metadata": {}
                },
                {
                    "output_type": "display_data",
                    "data": {
                        "text/html": "Total execution time: 00:00:00.013"
                    },
                    "metadata": {}
                }
            ],
            "execution_count": 1
        },
        {
            "cell_type": "markdown",
            "source": [
                "Create test"
            ],
            "metadata": {
                "azdata_cell_guid": "0330f8db-25c8-4979-a49f-423279a41e7b"
            }
        },
        {
            "cell_type": "code",
            "source": [
                "USE SSDTWithtSQLt\r\n",
                "GO\r\n",
                "DROP PROC IF EXISTS [TestUnitTesting].[test Vessel - Get all Vessels Expect success];\r\n",
                "GO\r\n",
                "CREATE PROC [TestUnitTesting].[test Vessel - Get all Vessels Expect success]\r\n",
                "AS\r\n",
                "/*  \r\n",
                "<documentation>  \r\n",
                "  <author>ABM040</author>  \r\n",
                "  <summary>Test the proceudre Vessel_GetAll</summary>  \r\n",
                "  <returns>nothing</returns>  \r\n",
                "</documentation>  \r\n",
                "  \r\n",
                "Changes:  \r\n",
                "Date  Who      Notes  \r\n",
                "---------- ---      --------------------------------------------------------------  \r\n",
                "20210714 ABM040        Creation  \r\n",
                "*/ \r\n",
                "    SET NOCOUNT ON;\r\n",
                "\r\n",
                "    ----- ASSEMBLE -----------------------------------------------\r\n",
                "\r\n",
                "    -- Create the fake table\r\n",
                "    EXEC tSQLt.FakeTable @TableName = N'[dbo].[Vessel]',\r\n",
                "                         @Identity = 1,\r\n",
                "                         @ComputedColumns = 1,\r\n",
                "                         @Defaults = 1;\r\n",
                "\r\n",
                "    -- Insert dummy records into table\r\n",
                "    INSERT INTO dbo.Vessel\r\n",
                "    (\r\n",
                "        -- VesselID -- this column value is auto-generated\r\n",
                "        VesselCode,\r\n",
                "        VesselName,\r\n",
                "        TEU,\r\n",
                "        Plug,\r\n",
                "        OperatorID\r\n",
                "    )\r\n",
                "    VALUES\r\n",
                "    (\r\n",
                "        '$$$',\r\n",
                "        'De Kai',\r\n",
                "        5000,\r\n",
                "        100,\r\n",
                "        NULL\r\n",
                "    )\r\n",
                "    ,(\r\n",
                "        '000',\r\n",
                "        'Kid Joe',\r\n",
                "        1000,\r\n",
                "        50,\r\n",
                "        NULL\r\n",
                "    )\r\n",
                "\r\n",
                "\r\n",
                "    -- Create the tables\r\n",
                "    CREATE TABLE #actual\r\n",
                "    (\r\n",
                "        [VesselID] [INT] NOT NULL,\r\n",
                "        [VesselCode] [CHAR](3) NOT NULL,\r\n",
                "        [VesselName] [VARCHAR](30) NULL,\r\n",
                "        [TEU] [INT] NULL,\r\n",
                "        [Plug] [INT] NULL,\r\n",
                "        [OperatorID] [INT] NULL,\r\n",
                "        [OperatorCode] [CHAR](3) NULL\r\n",
                "    );\r\n",
                "\r\n",
                "\r\n",
                "\r\n",
                "    -- Get the expected rows\r\n",
                "    SELECT v.VesselID\r\n",
                "      ,v.VesselCode\r\n",
                "      ,v.VesselName\r\n",
                "      ,v.TEU\r\n",
                "      ,v.Plug\r\n",
                "      ,v.OperatorID\r\n",
                "      ,o.OperatorCode\r\n",
                "    INTO #expected\r\n",
                "    FROM dbo.Vessel v\r\n",
                "    LEFT JOIN dbo.Operator o on o.OperatorID = v.OperatorID\r\n",
                "\r\n",
                "\r\n",
                "    ----- ACT ----------------------------------------------------\r\n",
                "\r\n",
                "    -- Execute the procedure\r\n",
                "    INSERT INTO #actual\r\n",
                "    (\r\n",
                "        [VesselID],\r\n",
                "        [VesselCode],\r\n",
                "        [VesselName],\r\n",
                "        [TEU],\r\n",
                "        [Plug],\r\n",
                "        [OperatorID],\r\n",
                "        [OperatorCode]\r\n",
                "    )\r\n",
                "    EXEC dbo.Vessel_GetAll;\r\n",
                "\r\n",
                "\r\n",
                "    ----- ASSERT -------------------------------------------------\r\n",
                "\r\n",
                "    -- Assert to have th same table\r\n",
                "    EXEC tSQLt.AssertEqualsTable @Expected = '#expected', @Actual = '#actual';\r\n",
                "GO"
            ],
            "metadata": {
                "azdata_cell_guid": "c923514d-418c-4cdd-8274-b30bf0a05078"
            },
            "outputs": [
                {
                    "output_type": "display_data",
                    "data": {
                        "text/html": "Commands completed successfully."
                    },
                    "metadata": {}
                },
                {
                    "output_type": "display_data",
                    "data": {
                        "text/html": "Commands completed successfully."
                    },
                    "metadata": {}
                },
                {
                    "output_type": "display_data",
                    "data": {
                        "text/html": "Commands completed successfully."
                    },
                    "metadata": {}
                },
                {
                    "output_type": "display_data",
                    "data": {
                        "text/html": "Total execution time: 00:00:00.071"
                    },
                    "metadata": {}
                }
            ],
            "execution_count": 10
        },
        {
            "cell_type": "markdown",
            "source": [
                "Run the test"
            ],
            "metadata": {
                "azdata_cell_guid": "d36b5c9f-5e60-46e4-91f3-8e9ace797ce1"
            }
        },
        {
            "cell_type": "code",
            "source": [
                "USE SSDTWithtSQLt;\r\n",
                "GO\r\n",
                "EXEC tSQLt.Run @TestName = N'[TestUnitTesting].[test Vessel - Get all Vessels Expect success]';"
            ],
            "metadata": {
                "azdata_cell_guid": "7a3c052e-c2bd-441c-9246-0634a5456599"
            },
            "outputs": [
                {
                    "output_type": "display_data",
                    "data": {
                        "text/html": "Commands completed successfully."
                    },
                    "metadata": {}
                },
                {
                    "output_type": "display_data",
                    "data": {
                        "text/html": "(1 row affected)"
                    },
                    "metadata": {}
                },
                {
                    "output_type": "display_data",
                    "data": {
                        "text/html": " "
                    },
                    "metadata": {}
                },
                {
                    "output_type": "display_data",
                    "data": {
                        "text/html": "+----------------------+"
                    },
                    "metadata": {}
                },
                {
                    "output_type": "display_data",
                    "data": {
                        "text/html": "|Test Execution Summary|"
                    },
                    "metadata": {}
                },
                {
                    "output_type": "display_data",
                    "data": {
                        "text/html": "+----------------------+"
                    },
                    "metadata": {}
                },
                {
                    "output_type": "display_data",
                    "data": {
                        "text/html": " "
                    },
                    "metadata": {}
                },
                {
                    "output_type": "display_data",
                    "data": {
                        "text/html": "|No|Test Case Name                                                  |Dur(ms)|Result |"
                    },
                    "metadata": {}
                },
                {
                    "output_type": "display_data",
                    "data": {
                        "text/html": "+--+----------------------------------------------------------------+-------+-------+"
                    },
                    "metadata": {}
                },
                {
                    "output_type": "display_data",
                    "data": {
                        "text/html": "|1 |[TestUnitTesting].[test Vessel - Get all Vessels Expect success]|    117|Success|"
                    },
                    "metadata": {}
                },
                {
                    "output_type": "display_data",
                    "data": {
                        "text/html": "-----------------------------------------------------------------------------"
                    },
                    "metadata": {}
                },
                {
                    "output_type": "display_data",
                    "data": {
                        "text/html": "Test Case Summary: 1 test case(s) executed, 1 succeeded, 0 failed, 0 errored."
                    },
                    "metadata": {}
                },
                {
                    "output_type": "display_data",
                    "data": {
                        "text/html": "-----------------------------------------------------------------------------"
                    },
                    "metadata": {}
                },
                {
                    "output_type": "display_data",
                    "data": {
                        "text/html": "Total execution time: 00:00:00.265"
                    },
                    "metadata": {}
                }
            ],
            "execution_count": 11
        },
        {
            "cell_type": "markdown",
            "source": [
                "Another way to do the test"
            ],
            "metadata": {
                "azdata_cell_guid": "79cb4b28-ec0e-49a9-9d2d-5945a2db90dd"
            }
        },
        {
            "cell_type": "code",
            "source": [
                "USE SSDTWithtSQLt\r\n",
                "GO\r\n",
                "DROP PROCEDURE IF EXISTS [TestUnitTesting].[test Vessel - Get all Vessels Expect success];\r\n",
                "GO\r\n",
                "CREATE PROCEDURE [TestUnitTesting].[test Vessel - Get all Vessels Expect success]\r\n",
                "AS\r\n",
                "/*  \r\n",
                "<documentation>  \r\n",
                "  <author>ABM040</author>  \r\n",
                "  <summary>Test the proceudre Vessel_GetAll</summary>  \r\n",
                "  <returns>nothing</returns>  \r\n",
                "</documentation>  \r\n",
                "  \r\n",
                "Changes:  \r\n",
                "Date  Who      Notes  \r\n",
                "---------- ---      --------------------------------------------------------------  \r\n",
                "20210714 ABM040        Creation  \r\n",
                "*/ \r\n",
                "    SET NOCOUNT ON;\r\n",
                "\r\n",
                "    ----- ASSEMBLE -----------------------------------------------\r\n",
                "\r\n",
                "    -- Create the fake table\r\n",
                "    EXEC tSQLt.FakeTable @TableName = N'[dbo].[Vessel]',\r\n",
                "                         @Identity = 1,\r\n",
                "                         @ComputedColumns = 1,\r\n",
                "                         @Defaults = 1;\r\n",
                "\r\n",
                "    -- Insert dummy records into table\r\n",
                "    INSERT INTO dbo.Vessel\r\n",
                "    (\r\n",
                "        -- VesselID -- this column value is auto-generated\r\n",
                "        VesselCode,\r\n",
                "        VesselName,\r\n",
                "        TEU,\r\n",
                "        Plug,\r\n",
                "        OperatorID\r\n",
                "    )\r\n",
                "\tVALUES\r\n",
                "\t(\r\n",
                "\t\t'$$$',\r\n",
                "\t\t'De Kai',\r\n",
                "\t\t5000,\r\n",
                "\t\t100,\r\n",
                "\t\tNULL\r\n",
                "\t)\r\n",
                "\t,(\r\n",
                "\t\t'000',\r\n",
                "\t\t'Kid Joe',\r\n",
                "\t\t1000,\r\n",
                "\t\t50,\r\n",
                "\t\tNULL\r\n",
                "\t)\r\n",
                "\r\n",
                "\r\n",
                "    -- Create the tables\r\n",
                "    CREATE TABLE #actual\r\n",
                "    (\r\n",
                "        [VesselID] [INT] NOT NULL,\r\n",
                "        [VesselCode] [CHAR](3) NOT NULL,\r\n",
                "        [VesselName] [VARCHAR](30) NULL,\r\n",
                "        [TEU] [INT] NULL,\r\n",
                "        [Plug] [INT] NULL,\r\n",
                "        [OperatorID] [INT] NULL,\r\n",
                "        [OperatorCode] [CHAR](3) NULL\r\n",
                "    );\r\n",
                "\r\n",
                "\r\n",
                "\r\n",
                "    -- Get the expected rows\r\n",
                "    SELECT v.VesselID\r\n",
                "      ,v.VesselCode\r\n",
                "      ,v.VesselName\r\n",
                "      ,v.TEU\r\n",
                "      ,v.Plug\r\n",
                "      ,v.OperatorID\r\n",
                "      ,o.OperatorCode\r\n",
                "    INTO #expected\r\n",
                "    FROM dbo.Vessel v\r\n",
                "    LEFT JOIN dbo.Operator o on o.OperatorID = v.OperatorID\r\n",
                "\r\n",
                "\r\n",
                "    ----- ACT ----------------------------------------------------\r\n",
                "\r\n",
                "    -- Execute the procedure\r\n",
                "    INSERT INTO #actual\r\n",
                "    (\r\n",
                "        [VesselID],\r\n",
                "        [VesselCode],\r\n",
                "        [VesselName],\r\n",
                "        [TEU],\r\n",
                "        [Plug],\r\n",
                "        [OperatorID],\r\n",
                "        [OperatorCode]\r\n",
                "    )\r\n",
                "    EXEC dbo.Vessel_GetAll;\r\n",
                "\r\n",
                "\r\n",
                "    ----- ASSERT -------------------------------------------------\r\n",
                "\r\n",
                "    -- Assert the count\r\n",
                "    DECLARE @rowcount INT;\r\n",
                "    SELECT @rowcount = COUNT(*)\r\n",
                "    FROM dbo.Vessel;\r\n",
                "    EXEC tSQLt.AssertEquals @Expected = 2, \r\n",
                "                        @Actual = @rowcount,\r\n",
                "                        @Message = N'Row count does not match';\r\n",
                "\r\n",
                "GO"
            ],
            "metadata": {
                "azdata_cell_guid": "6b5f5ab2-2183-4797-b3af-fc1537f8f8a5"
            },
            "outputs": [
                {
                    "output_type": "display_data",
                    "data": {
                        "text/html": "Commands completed successfully."
                    },
                    "metadata": {}
                },
                {
                    "output_type": "display_data",
                    "data": {
                        "text/html": "Commands completed successfully."
                    },
                    "metadata": {}
                },
                {
                    "output_type": "display_data",
                    "data": {
                        "text/html": "Commands completed successfully."
                    },
                    "metadata": {}
                },
                {
                    "output_type": "display_data",
                    "data": {
                        "text/html": "Total execution time: 00:00:00.025"
                    },
                    "metadata": {}
                }
            ],
            "execution_count": 14
        },
        {
            "cell_type": "markdown",
            "source": [
                "Run the test"
            ],
            "metadata": {
                "azdata_cell_guid": "e5424143-57db-4c2d-868f-976dcac142f8"
            }
        },
        {
            "cell_type": "code",
            "source": [
                "USE SSDTWithtSQLt;\r\n",
                "GO\r\n",
                "EXEC tSQLt.Run @TestName = N'[TestUnitTesting].[test Vessel - Get all Vessels Expect success]';"
            ],
            "metadata": {
                "azdata_cell_guid": "c34dfa8c-0b13-4097-9b4b-175128ca9226"
            },
            "outputs": [
                {
                    "output_type": "display_data",
                    "data": {
                        "text/html": "Commands completed successfully."
                    },
                    "metadata": {}
                },
                {
                    "output_type": "display_data",
                    "data": {
                        "text/html": "(1 row affected)"
                    },
                    "metadata": {}
                },
                {
                    "output_type": "display_data",
                    "data": {
                        "text/html": " "
                    },
                    "metadata": {}
                },
                {
                    "output_type": "display_data",
                    "data": {
                        "text/html": "+----------------------+"
                    },
                    "metadata": {}
                },
                {
                    "output_type": "display_data",
                    "data": {
                        "text/html": "|Test Execution Summary|"
                    },
                    "metadata": {}
                },
                {
                    "output_type": "display_data",
                    "data": {
                        "text/html": "+----------------------+"
                    },
                    "metadata": {}
                },
                {
                    "output_type": "display_data",
                    "data": {
                        "text/html": " "
                    },
                    "metadata": {}
                },
                {
                    "output_type": "display_data",
                    "data": {
                        "text/html": "|No|Test Case Name                                                  |Dur(ms)|Result |"
                    },
                    "metadata": {}
                },
                {
                    "output_type": "display_data",
                    "data": {
                        "text/html": "+--+----------------------------------------------------------------+-------+-------+"
                    },
                    "metadata": {}
                },
                {
                    "output_type": "display_data",
                    "data": {
                        "text/html": "|1 |[TestUnitTesting].[test Vessel - Get all Vessels Expect success]|    150|Success|"
                    },
                    "metadata": {}
                },
                {
                    "output_type": "display_data",
                    "data": {
                        "text/html": "-----------------------------------------------------------------------------"
                    },
                    "metadata": {}
                },
                {
                    "output_type": "display_data",
                    "data": {
                        "text/html": "Test Case Summary: 1 test case(s) executed, 1 succeeded, 0 failed, 0 errored."
                    },
                    "metadata": {}
                },
                {
                    "output_type": "display_data",
                    "data": {
                        "text/html": "-----------------------------------------------------------------------------"
                    },
                    "metadata": {}
                },
                {
                    "output_type": "display_data",
                    "data": {
                        "text/html": "Total execution time: 00:00:00.237"
                    },
                    "metadata": {}
                }
            ],
            "execution_count": 15
        },
        {
            "cell_type": "markdown",
            "source": [
                "Let's break it"
            ],
            "metadata": {
                "azdata_cell_guid": "2378d885-73a1-4c27-ad51-4f905567a559"
            }
        },
        {
            "cell_type": "code",
            "source": [
                "USE SSDTWithtSQLt\r\n",
                "GO\r\n",
                "DROP PROC IF EXISTS [TestUnitTesting].[test Vessel - Get all Vessels Expect success]\r\n",
                "GO\r\n",
                "CREATE PROC [TestUnitTesting].[test Vessel - Get all Vessels Expect success]\r\n",
                "AS\r\n",
                "    SET NOCOUNT ON;\r\n",
                "\r\n",
                "    ----- ASSEMBLE -----------------------------------------------\r\n",
                "\r\n",
                "    -- Create the fake table\r\n",
                "    EXEC tSQLt.FakeTable @TableName = N'[dbo].[Vessel]',\r\n",
                "                         @Identity = 1,\r\n",
                "                         @ComputedColumns = 1,\r\n",
                "                         @Defaults = 1;\r\n",
                "\r\n",
                "    -- Insert dummy records into table\r\n",
                "    INSERT INTO dbo.Vessel\r\n",
                "    (\r\n",
                "        -- VesselID -- this column value is auto-generated\r\n",
                "        VesselCode,\r\n",
                "        VesselName,\r\n",
                "        TEU,\r\n",
                "        Plug,\r\n",
                "        OperatorID\r\n",
                "    )\r\n",
                "\tVALUES\r\n",
                "\t(\r\n",
                "\t\t'$$$',\r\n",
                "\t\t'De Kai',\r\n",
                "\t\t5000,\r\n",
                "\t\t100,\r\n",
                "\t\tNULL\r\n",
                "\t)\r\n",
                "\t,(\r\n",
                "\t\t'000',\r\n",
                "\t\t'Kid Joe',\r\n",
                "\t\t1000,\r\n",
                "\t\t50,\r\n",
                "\t\tNULL\r\n",
                "\t)\r\n",
                "\r\n",
                "\r\n",
                "    -- Create the tables\r\n",
                "    CREATE TABLE #actual\r\n",
                "    (\r\n",
                "        [VesselID] [INT] NOT NULL,\r\n",
                "        [VesselCode] [CHAR](3) NOT NULL,\r\n",
                "        [VesselName] [VARCHAR](30) NULL,\r\n",
                "        [TEU] [INT] NULL,\r\n",
                "        [Plug] [INT] NULL,\r\n",
                "        [OperatorID] [INT] NULL,\r\n",
                "        [OperatorCode] [CHAR](3) NULL\r\n",
                "    );\r\n",
                "\r\n",
                "\r\n",
                "\r\n",
                "    -- Get the expected rows\r\n",
                "    SELECT v.VesselID\r\n",
                "      ,v.VesselCode\r\n",
                "      ,v.VesselName\r\n",
                "      ,v.TEU\r\n",
                "      ,v.Plug\r\n",
                "      ,v.OperatorID\r\n",
                "      ,o.OperatorCode\r\n",
                "    INTO #expected\r\n",
                "    FROM dbo.Vessel v\r\n",
                "    LEFT JOIN dbo.Operator o on o.OperatorID = v.OperatorID\r\n",
                "\r\n",
                "\r\n",
                "    ----- ACT ----------------------------------------------------\r\n",
                "\r\n",
                "    -- Execute the procedure\r\n",
                "    INSERT INTO #actual\r\n",
                "    (\r\n",
                "        [VesselID],\r\n",
                "        [VesselCode],\r\n",
                "        [VesselName],\r\n",
                "        [TEU],\r\n",
                "        [Plug],\r\n",
                "        [OperatorID],\r\n",
                "        [OperatorCode]\r\n",
                "    )\r\n",
                "    EXEC dbo.Vessel_GetAll;\r\n",
                "\r\n",
                "\r\n",
                "    ----- ASSERT -------------------------------------------------\r\n",
                "\r\n",
                "    -- Assert the table\r\n",
                "\r\n",
                "    -- Lets break the test\r\n",
                "    DELETE TOP (1) FROM #actual\r\n",
                "    EXEC tSQLt.AssertEqualsTable @Expected = '#expected', @Actual = '#actual' -- This will fail because the row is missing\r\n",
                "GO"
            ],
            "metadata": {
                "azdata_cell_guid": "0598c516-508d-4b42-aeb0-461531874708"
            },
            "outputs": [
                {
                    "output_type": "display_data",
                    "data": {
                        "text/html": "Commands completed successfully."
                    },
                    "metadata": {}
                },
                {
                    "output_type": "display_data",
                    "data": {
                        "text/html": "Commands completed successfully."
                    },
                    "metadata": {}
                },
                {
                    "output_type": "display_data",
                    "data": {
                        "text/html": "Commands completed successfully."
                    },
                    "metadata": {}
                },
                {
                    "output_type": "display_data",
                    "data": {
                        "text/html": "Total execution time: 00:00:00.095"
                    },
                    "metadata": {}
                }
            ],
            "execution_count": 17
        },
        {
            "cell_type": "markdown",
            "source": [
                "Run the failing test"
            ],
            "metadata": {
                "azdata_cell_guid": "797b797e-3a5a-463c-b4ff-86e4d50c7acc"
            }
        },
        {
            "cell_type": "code",
            "source": [
                "USE SSDTWithtSQLt\r\n",
                "GO\r\n",
                "EXEC tSQLt.Run @TestName = N'[TestUnitTesting].[test Vessel - Get all Vessels Expect success]';"
            ],
            "metadata": {
                "azdata_cell_guid": "608cb323-7912-4a51-aeba-f74823465a82"
            },
            "outputs": [
                {
                    "output_type": "display_data",
                    "data": {
                        "text/html": "Commands completed successfully."
                    },
                    "metadata": {}
                },
                {
                    "output_type": "display_data",
                    "data": {
                        "text/html": "(1 row affected)"
                    },
                    "metadata": {}
                },
                {
                    "output_type": "display_data",
                    "data": {
                        "text/html": "[TestUnitTesting].[test Vessel - Get all Vessels Expect success] failed: (Failure) Unexpected/missing resultset rows!"
                    },
                    "metadata": {}
                },
                {
                    "output_type": "display_data",
                    "data": {
                        "text/html": "|_m_|VesselID|VesselCode|VesselName|TEU |Plug|OperatorID|OperatorCode|"
                    },
                    "metadata": {}
                },
                {
                    "output_type": "display_data",
                    "data": {
                        "text/html": "+---+--------+----------+----------+----+----+----------+------------+"
                    },
                    "metadata": {}
                },
                {
                    "output_type": "display_data",
                    "data": {
                        "text/html": "|<  |1       |$$$       |De Kai    |5000|100 |!NULL!    |!NULL!      |"
                    },
                    "metadata": {}
                },
                {
                    "output_type": "display_data",
                    "data": {
                        "text/html": "|=  |2       |000       |Kid Joe   |1000|50  |!NULL!    |!NULL!      |"
                    },
                    "metadata": {}
                },
                {
                    "output_type": "display_data",
                    "data": {
                        "text/html": " "
                    },
                    "metadata": {}
                },
                {
                    "output_type": "display_data",
                    "data": {
                        "text/html": "+----------------------+"
                    },
                    "metadata": {}
                },
                {
                    "output_type": "display_data",
                    "data": {
                        "text/html": "|Test Execution Summary|"
                    },
                    "metadata": {}
                },
                {
                    "output_type": "display_data",
                    "data": {
                        "text/html": "+----------------------+"
                    },
                    "metadata": {}
                },
                {
                    "output_type": "display_data",
                    "data": {
                        "text/html": " "
                    },
                    "metadata": {}
                },
                {
                    "output_type": "display_data",
                    "data": {
                        "text/html": "|No|Test Case Name                                                  |Dur(ms)|Result |"
                    },
                    "metadata": {}
                },
                {
                    "output_type": "display_data",
                    "data": {
                        "text/html": "+--+----------------------------------------------------------------+-------+-------+"
                    },
                    "metadata": {}
                },
                {
                    "output_type": "display_data",
                    "data": {
                        "text/html": "|1 |[TestUnitTesting].[test Vessel - Get all Vessels Expect success]|    207|Failure|"
                    },
                    "metadata": {}
                },
                {
                    "output_type": "display_data",
                    "data": {
                        "text/html": "-----------------------------------------------------------------------------"
                    },
                    "metadata": {}
                },
                {
                    "output_type": "error",
                    "evalue": "Msg 50000, Level 16, State 10, Line 3\r\nTest Case Summary: 1 test case(s) executed, 0 succeeded, 1 failed, 0 errored.",
                    "ename": "",
                    "traceback": []
                },
                {
                    "output_type": "display_data",
                    "data": {
                        "text/html": "-----------------------------------------------------------------------------"
                    },
                    "metadata": {}
                },
                {
                    "output_type": "display_data",
                    "data": {
                        "text/html": "Total execution time: 00:00:00.377"
                    },
                    "metadata": {}
                }
            ],
            "execution_count": 18
        },
        {
            "cell_type": "markdown",
            "source": [
                "Run all the tests"
            ],
            "metadata": {
                "azdata_cell_guid": "839d9511-6e66-4ec3-a23c-5a1e128b55e5"
            }
        },
        {
            "cell_type": "code",
            "source": [
                "USE SSDTWithtSQLt\r\n",
                "GO\r\n",
                "EXEC tSQLt.RunAll"
            ],
            "metadata": {
                "azdata_cell_guid": "b6e8c09a-36d4-480a-b69d-9aa9a4ad218d"
            },
            "outputs": [
                {
                    "output_type": "display_data",
                    "data": {
                        "text/html": "Commands completed successfully."
                    },
                    "metadata": {}
                },
                {
                    "output_type": "display_data",
                    "data": {
                        "text/html": "(1 row affected)"
                    },
                    "metadata": {}
                },
                {
                    "output_type": "display_data",
                    "data": {
                        "text/html": "[TestUnitTesting].[test Person - Get all Vessels Expect success] failed: (Error) Column name or number of supplied values does not match table definition.[16,7]{dbo.Vessel_GetAll,19} (There was also a ROLLBACK ERROR --> The current transaction cannot be committed and cannot be rolled back to a savepoint. Roll back the entire transaction.{tSQLt.Private_RunTest,161})"
                    },
                    "metadata": {}
                },
                {
                    "output_type": "display_data",
                    "data": {
                        "text/html": "[TestUnitTesting].[test Vessel - Get all Vessels Expect success] failed: (Failure) Unexpected/missing resultset rows!"
                    },
                    "metadata": {}
                },
                {
                    "output_type": "display_data",
                    "data": {
                        "text/html": "|_m_|VesselID|VesselCode|VesselName|TEU |Plug|OperatorID|OperatorCode|"
                    },
                    "metadata": {}
                },
                {
                    "output_type": "display_data",
                    "data": {
                        "text/html": "+---+--------+----------+----------+----+----+----------+------------+"
                    },
                    "metadata": {}
                },
                {
                    "output_type": "display_data",
                    "data": {
                        "text/html": "|<  |1       |$$$       |De Kai    |5000|100 |!NULL!    |!NULL!      |"
                    },
                    "metadata": {}
                },
                {
                    "output_type": "display_data",
                    "data": {
                        "text/html": "|=  |2       |000       |Kid Joe   |1000|50  |!NULL!    |!NULL!      |"
                    },
                    "metadata": {}
                },
                {
                    "output_type": "display_data",
                    "data": {
                        "text/html": " "
                    },
                    "metadata": {}
                },
                {
                    "output_type": "display_data",
                    "data": {
                        "text/html": "+----------------------+"
                    },
                    "metadata": {}
                },
                {
                    "output_type": "display_data",
                    "data": {
                        "text/html": "|Test Execution Summary|"
                    },
                    "metadata": {}
                },
                {
                    "output_type": "display_data",
                    "data": {
                        "text/html": "+----------------------+"
                    },
                    "metadata": {}
                },
                {
                    "output_type": "display_data",
                    "data": {
                        "text/html": " "
                    },
                    "metadata": {}
                },
                {
                    "output_type": "display_data",
                    "data": {
                        "text/html": "|No|Test Case Name                                                                                                        |Dur(ms)|Result |"
                    },
                    "metadata": {}
                },
                {
                    "output_type": "display_data",
                    "data": {
                        "text/html": "+--+----------------------------------------------------------------------------------------------------------------------+-------+-------+"
                    },
                    "metadata": {}
                },
                {
                    "output_type": "display_data",
                    "data": {
                        "text/html": "|1 |[TestBasic].[test If procedure dbo.Vessel_Create has the correct parameters]                                          |     77|Success|"
                    },
                    "metadata": {}
                },
                {
                    "output_type": "display_data",
                    "data": {
                        "text/html": "|2 |[TestBasic].[test If table dbo.Operator exists]                                                                       |     10|Success|"
                    },
                    "metadata": {}
                },
                {
                    "output_type": "display_data",
                    "data": {
                        "text/html": "|3 |[TestBasic].[test If table dbo.Vessel exists]                                                                         |      6|Success|"
                    },
                    "metadata": {}
                },
                {
                    "output_type": "display_data",
                    "data": {
                        "text/html": "|4 |[TestBasic].[test If table dbo.Vessel has the correct columns]                                                        |     93|Success|"
                    },
                    "metadata": {}
                },
                {
                    "output_type": "display_data",
                    "data": {
                        "text/html": "|5 |[TestUnitTesting].[test Procedure Vessel_Create - Create Vessel without VesselCode should return error Expect success]|     67|Success|"
                    },
                    "metadata": {}
                },
                {
                    "output_type": "display_data",
                    "data": {
                        "text/html": "|6 |[TestUnitTesting].[test Procedure Vessel_Create - Create Vessel]                                                      |     60|Success|"
                    },
                    "metadata": {}
                },
                {
                    "output_type": "display_data",
                    "data": {
                        "text/html": "|7 |[TestUnitTesting].[test Vessel - Get all Vessels Expect success]                                                      |     90|Failure|"
                    },
                    "metadata": {}
                },
                {
                    "output_type": "display_data",
                    "data": {
                        "text/html": "|8 |[TestUnitTesting].[test Person - Get all Vessels Expect success]                                                      |     70|Error  |"
                    },
                    "metadata": {}
                },
                {
                    "output_type": "display_data",
                    "data": {
                        "text/html": "-----------------------------------------------------------------------------"
                    },
                    "metadata": {}
                },
                {
                    "output_type": "error",
                    "evalue": "Msg 50000, Level 16, State 10, Line 3\r\nTest Case Summary: 8 test case(s) executed, 6 succeeded, 1 failed, 1 errored.",
                    "ename": "",
                    "traceback": []
                },
                {
                    "output_type": "display_data",
                    "data": {
                        "text/html": "-----------------------------------------------------------------------------"
                    },
                    "metadata": {}
                },
                {
                    "output_type": "display_data",
                    "data": {
                        "text/html": "Total execution time: 00:00:00.650"
                    },
                    "metadata": {}
                }
            ],
            "execution_count": 19
        }
    ]
}