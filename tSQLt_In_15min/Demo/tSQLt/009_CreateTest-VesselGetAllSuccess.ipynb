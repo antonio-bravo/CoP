{
    "metadata": {
        "kernelspec": {
            "name": "SQL",
            "display_name": "SQL",
            "language": "sql"
        },
        "language_info": {
            "name": "sql",
            "version": ""
        }
    },
    "nbformat_minor": 2,
    "nbformat": 4,
    "cells": [
        {
            "cell_type": "markdown",
            "source": [
                "Cleanup"
            ],
            "metadata": {
                "azdata_cell_guid": "f38865dc-621f-427d-805e-5c4c88b0a93b"
            }
        },
        {
            "cell_type": "code",
            "source": [
                "USE SSDTWithtSQLt\r\n",
                "GO\r\n",
                "DROP PROC IF EXISTS [TestUnitTesting].[test Vessel - Get all Vessels Expect success];\r\n",
                "GO"
            ],
            "metadata": {
                "azdata_cell_guid": "5e586772-05bb-4b74-8fa9-8e257cd0baeb"
            },
            "outputs": [],
            "execution_count": null
        },
        {
            "cell_type": "markdown",
            "source": [
                "Create test"
            ],
            "metadata": {
                "azdata_cell_guid": "0330f8db-25c8-4979-a49f-423279a41e7b"
            }
        },
        {
            "cell_type": "code",
            "source": [
                "USE SSDTWithtSQLt\r\n",
                "GO\r\n",
                "DROP PROC IF EXISTS [TestUnitTesting].[test Vessel - Get all Vessels Expect success];\r\n",
                "GO\r\n",
                "CREATE PROC [TestUnitTesting].[test Vessel - Get all Vessels Expect success]\r\n",
                "AS\r\n",
                "/*  \r\n",
                "<documentation>  \r\n",
                "  <author>ABM040</author>  \r\n",
                "  <summary>Test the proceudre Vessel_GetAll</summary>  \r\n",
                "  <returns>nothing</returns>  \r\n",
                "</documentation>  \r\n",
                "  \r\n",
                "Changes:  \r\n",
                "Date  Who      Notes  \r\n",
                "---------- ---      --------------------------------------------------------------  \r\n",
                "20210714 ABM040        Creation  \r\n",
                "*/ \r\n",
                "    SET NOCOUNT ON;\r\n",
                "\r\n",
                "    ----- ASSEMBLE -----------------------------------------------\r\n",
                "\r\n",
                "    -- Create the fake table\r\n",
                "    EXEC tSQLt.FakeTable @TableName = N'[dbo].[Vessel]',\r\n",
                "                         @Identity = 1,\r\n",
                "                         @ComputedColumns = 1,\r\n",
                "                         @Defaults = 1;\r\n",
                "\r\n",
                "    -- Insert dummy records into table\r\n",
                "    INSERT INTO dbo.Vessel\r\n",
                "    (\r\n",
                "        -- VesselID -- this column value is auto-generated\r\n",
                "        VesselCode,\r\n",
                "        VesselName,\r\n",
                "        TEU,\r\n",
                "        Plug,\r\n",
                "        OperatorID\r\n",
                "    )\r\n",
                "    VALUES\r\n",
                "    (\r\n",
                "        '$$$',\r\n",
                "        'De Kai',\r\n",
                "        5000,\r\n",
                "        100,\r\n",
                "        NULL\r\n",
                "    )\r\n",
                "    ,(\r\n",
                "        '000',\r\n",
                "        'Kid Joe',\r\n",
                "        1000,\r\n",
                "        50,\r\n",
                "        NULL\r\n",
                "    )\r\n",
                "\r\n",
                "\r\n",
                "    -- Create the tables\r\n",
                "    CREATE TABLE #actual\r\n",
                "    (\r\n",
                "        [VesselID] [INT] NOT NULL,\r\n",
                "        [VesselCode] [CHAR](3) NOT NULL,\r\n",
                "        [VesselName] [VARCHAR](30) NULL,\r\n",
                "        [TEU] [INT] NULL,\r\n",
                "        [Plug] [INT] NULL,\r\n",
                "        [OperatorID] [INT] NULL,\r\n",
                "        [OperatorCode] [CHAR](3) NULL\r\n",
                "    );\r\n",
                "\r\n",
                "\r\n",
                "\r\n",
                "    -- Get the expected rows\r\n",
                "    SELECT v.VesselID\r\n",
                "      ,v.VesselCode\r\n",
                "      ,v.VesselName\r\n",
                "      ,v.TEU\r\n",
                "      ,v.Plug\r\n",
                "      ,v.OperatorID\r\n",
                "      ,o.OperatorCode\r\n",
                "    INTO #expected\r\n",
                "    FROM dbo.Vessel v\r\n",
                "    LEFT JOIN dbo.Operator o on o.OperatorID = v.OperatorID\r\n",
                "\r\n",
                "\r\n",
                "    ----- ACT ----------------------------------------------------\r\n",
                "\r\n",
                "    -- Execute the procedure\r\n",
                "    INSERT INTO #actual\r\n",
                "    (\r\n",
                "        [VesselID],\r\n",
                "        [VesselCode],\r\n",
                "        [VesselName],\r\n",
                "        [TEU],\r\n",
                "        [Plug],\r\n",
                "        [OperatorID],\r\n",
                "        [OperatorCode]\r\n",
                "    )\r\n",
                "    EXEC dbo.Vessel_GetAll;\r\n",
                "\r\n",
                "\r\n",
                "    ----- ASSERT -------------------------------------------------\r\n",
                "\r\n",
                "    -- Assert to have th same table\r\n",
                "    EXEC tSQLt.AssertEqualsTable @Expected = '#expected', @Actual = '#actual';\r\n",
                "GO"
            ],
            "metadata": {
                "azdata_cell_guid": "c923514d-418c-4cdd-8274-b30bf0a05078"
            },
            "outputs": [],
            "execution_count": null
        },
        {
            "cell_type": "markdown",
            "source": [
                "Run the test"
            ],
            "metadata": {
                "azdata_cell_guid": "d36b5c9f-5e60-46e4-91f3-8e9ace797ce1"
            }
        },
        {
            "cell_type": "code",
            "source": [
                "USE SSDTWithtSQLt;\r\n",
                "GO\r\n",
                "EXEC tSQLt.Run @TestName = N'[TestUnitTesting].[test Vessel - Get all Vessels Expect success]';"
            ],
            "metadata": {
                "azdata_cell_guid": "7a3c052e-c2bd-441c-9246-0634a5456599"
            },
            "outputs": [],
            "execution_count": null
        },
        {
            "cell_type": "markdown",
            "source": [
                "Another way to do the test"
            ],
            "metadata": {
                "azdata_cell_guid": "79cb4b28-ec0e-49a9-9d2d-5945a2db90dd"
            }
        },
        {
            "cell_type": "code",
            "source": [
                "USE SSDTWithtSQLt\r\n",
                "GO\r\n",
                "DROP PROCEDURE IF EXISTS [TestUnitTesting].[test Vessel - Get all Vessels Expect success];\r\n",
                "GO\r\n",
                "CREATE PROCEDURE [TestUnitTesting].[test Vessel - Get all Vessels Expect success]\r\n",
                "AS\r\n",
                "/*  \r\n",
                "<documentation>  \r\n",
                "  <author>ABM040</author>  \r\n",
                "  <summary>Test the proceudre Vessel_GetAll</summary>  \r\n",
                "  <returns>nothing</returns>  \r\n",
                "</documentation>  \r\n",
                "  \r\n",
                "Changes:  \r\n",
                "Date  Who      Notes  \r\n",
                "---------- ---      --------------------------------------------------------------  \r\n",
                "20210714 ABM040        Creation  \r\n",
                "*/ \r\n",
                "    SET NOCOUNT ON;\r\n",
                "\r\n",
                "    ----- ASSEMBLE -----------------------------------------------\r\n",
                "\r\n",
                "    -- Create the fake table\r\n",
                "    EXEC tSQLt.FakeTable @TableName = N'[dbo].[Vessel]',\r\n",
                "                         @Identity = 1,\r\n",
                "                         @ComputedColumns = 1,\r\n",
                "                         @Defaults = 1;\r\n",
                "\r\n",
                "    -- Insert dummy records into table\r\n",
                "    INSERT INTO dbo.Vessel\r\n",
                "    (\r\n",
                "        -- VesselID -- this column value is auto-generated\r\n",
                "        VesselCode,\r\n",
                "        VesselName,\r\n",
                "        TEU,\r\n",
                "        Plug,\r\n",
                "        OperatorID\r\n",
                "    )\r\n",
                "\tVALUES\r\n",
                "\t(\r\n",
                "\t\t'$$$',\r\n",
                "\t\t'De Kai',\r\n",
                "\t\t5000,\r\n",
                "\t\t100,\r\n",
                "\t\tNULL\r\n",
                "\t)\r\n",
                "\t,(\r\n",
                "\t\t'000',\r\n",
                "\t\t'Kid Joe',\r\n",
                "\t\t1000,\r\n",
                "\t\t50,\r\n",
                "\t\tNULL\r\n",
                "\t)\r\n",
                "\r\n",
                "\r\n",
                "    -- Create the tables\r\n",
                "    CREATE TABLE #actual\r\n",
                "    (\r\n",
                "        [VesselID] [INT] NOT NULL,\r\n",
                "        [VesselCode] [CHAR](3) NOT NULL,\r\n",
                "        [VesselName] [VARCHAR](30) NULL,\r\n",
                "        [TEU] [INT] NULL,\r\n",
                "        [Plug] [INT] NULL,\r\n",
                "        [OperatorID] [INT] NULL,\r\n",
                "        [OperatorCode] [CHAR](3) NULL\r\n",
                "    );\r\n",
                "\r\n",
                "\r\n",
                "\r\n",
                "    -- Get the expected rows\r\n",
                "    SELECT v.VesselID\r\n",
                "      ,v.VesselCode\r\n",
                "      ,v.VesselName\r\n",
                "      ,v.TEU\r\n",
                "      ,v.Plug\r\n",
                "      ,v.OperatorID\r\n",
                "      ,o.OperatorCode\r\n",
                "    INTO #expected\r\n",
                "    FROM dbo.Vessel v\r\n",
                "    LEFT JOIN dbo.Operator o on o.OperatorID = v.OperatorID\r\n",
                "\r\n",
                "\r\n",
                "    ----- ACT ----------------------------------------------------\r\n",
                "\r\n",
                "    -- Execute the procedure\r\n",
                "    INSERT INTO #actual\r\n",
                "    (\r\n",
                "        [VesselID],\r\n",
                "        [VesselCode],\r\n",
                "        [VesselName],\r\n",
                "        [TEU],\r\n",
                "        [Plug],\r\n",
                "        [OperatorID],\r\n",
                "        [OperatorCode]\r\n",
                "    )\r\n",
                "    EXEC dbo.Vessel_GetAll;\r\n",
                "\r\n",
                "\r\n",
                "    ----- ASSERT -------------------------------------------------\r\n",
                "\r\n",
                "    -- Assert the count\r\n",
                "    DECLARE @rowcount INT;\r\n",
                "    SELECT @rowcount = COUNT(*)\r\n",
                "    FROM dbo.Vessel;\r\n",
                "    EXEC tSQLt.AssertEquals @Expected = 2, \r\n",
                "                        @Actual = @rowcount,\r\n",
                "                        @Message = N'Row count does not match';\r\n",
                "\r\n",
                "GO"
            ],
            "metadata": {
                "azdata_cell_guid": "6b5f5ab2-2183-4797-b3af-fc1537f8f8a5"
            },
            "outputs": [],
            "execution_count": null
        },
        {
            "cell_type": "markdown",
            "source": [
                "Run the test"
            ],
            "metadata": {
                "azdata_cell_guid": "e5424143-57db-4c2d-868f-976dcac142f8"
            }
        },
        {
            "cell_type": "code",
            "source": [
                "USE SSDTWithtSQLt;\r\n",
                "GO\r\n",
                "EXEC tSQLt.Run @TestName = N'[TestUnitTesting].[test Vessel - Get all Vessels Expect success]';"
            ],
            "metadata": {
                "azdata_cell_guid": "c34dfa8c-0b13-4097-9b4b-175128ca9226"
            },
            "outputs": [],
            "execution_count": null
        },
        {
            "cell_type": "markdown",
            "source": [
                "Let's break it"
            ],
            "metadata": {
                "azdata_cell_guid": "2378d885-73a1-4c27-ad51-4f905567a559"
            }
        },
        {
            "cell_type": "code",
            "source": [
                "USE SSDTWithtSQLt\r\n",
                "GO\r\n",
                "DROP PROC IF EXISTS [TestUnitTesting].[test Vessel - Get all Vessels Expect success]\r\n",
                "GO\r\n",
                "CREATE PROC [TestUnitTesting].[test Vessel - Get all Vessels Expect success]\r\n",
                "AS\r\n",
                "    SET NOCOUNT ON;\r\n",
                "\r\n",
                "    ----- ASSEMBLE -----------------------------------------------\r\n",
                "\r\n",
                "    -- Create the fake table\r\n",
                "    EXEC tSQLt.FakeTable @TableName = N'[dbo].[Vessel]',\r\n",
                "                         @Identity = 1,\r\n",
                "                         @ComputedColumns = 1,\r\n",
                "                         @Defaults = 1;\r\n",
                "\r\n",
                "    -- Insert dummy records into table\r\n",
                "    INSERT INTO dbo.Vessel\r\n",
                "    (\r\n",
                "        -- VesselID -- this column value is auto-generated\r\n",
                "        VesselCode,\r\n",
                "        VesselName,\r\n",
                "        TEU,\r\n",
                "        Plug,\r\n",
                "        OperatorID\r\n",
                "    )\r\n",
                "\tVALUES\r\n",
                "\t(\r\n",
                "\t\t'$$$',\r\n",
                "\t\t'De Kai',\r\n",
                "\t\t5000,\r\n",
                "\t\t100,\r\n",
                "\t\tNULL\r\n",
                "\t)\r\n",
                "\t,(\r\n",
                "\t\t'000',\r\n",
                "\t\t'Kid Joe',\r\n",
                "\t\t1000,\r\n",
                "\t\t50,\r\n",
                "\t\tNULL\r\n",
                "\t)\r\n",
                "\r\n",
                "\r\n",
                "    -- Create the tables\r\n",
                "    CREATE TABLE #actual\r\n",
                "    (\r\n",
                "        [VesselID] [INT] NOT NULL,\r\n",
                "        [VesselCode] [CHAR](3) NOT NULL,\r\n",
                "        [VesselName] [VARCHAR](30) NULL,\r\n",
                "        [TEU] [INT] NULL,\r\n",
                "        [Plug] [INT] NULL,\r\n",
                "        [OperatorID] [INT] NULL,\r\n",
                "        [OperatorCode] [CHAR](3) NULL\r\n",
                "    );\r\n",
                "\r\n",
                "\r\n",
                "\r\n",
                "    -- Get the expected rows\r\n",
                "    SELECT v.VesselID\r\n",
                "      ,v.VesselCode\r\n",
                "      ,v.VesselName\r\n",
                "      ,v.TEU\r\n",
                "      ,v.Plug\r\n",
                "      ,v.OperatorID\r\n",
                "      ,o.OperatorCode\r\n",
                "    INTO #expected\r\n",
                "    FROM dbo.Vessel v\r\n",
                "    LEFT JOIN dbo.Operator o on o.OperatorID = v.OperatorID\r\n",
                "\r\n",
                "\r\n",
                "    ----- ACT ----------------------------------------------------\r\n",
                "\r\n",
                "    -- Execute the procedure\r\n",
                "    INSERT INTO #actual\r\n",
                "    (\r\n",
                "        [VesselID],\r\n",
                "        [VesselCode],\r\n",
                "        [VesselName],\r\n",
                "        [TEU],\r\n",
                "        [Plug],\r\n",
                "        [OperatorID],\r\n",
                "        [OperatorCode]\r\n",
                "    )\r\n",
                "    EXEC dbo.Vessel_GetAll;\r\n",
                "\r\n",
                "\r\n",
                "    ----- ASSERT -------------------------------------------------\r\n",
                "\r\n",
                "    -- Assert the table\r\n",
                "\r\n",
                "    -- Lets break the test\r\n",
                "    DELETE TOP (1) FROM #actual\r\n",
                "    EXEC tSQLt.AssertEqualsTable @Expected = '#expected', @Actual = '#actual' -- This will fail because the row is missing\r\n",
                "GO"
            ],
            "metadata": {
                "azdata_cell_guid": "0598c516-508d-4b42-aeb0-461531874708"
            },
            "outputs": [],
            "execution_count": null
        },
        {
            "cell_type": "markdown",
            "source": [
                "Run the failing test"
            ],
            "metadata": {
                "azdata_cell_guid": "797b797e-3a5a-463c-b4ff-86e4d50c7acc"
            }
        },
        {
            "cell_type": "code",
            "source": [
                "USE SSDTWithtSQLt\r\n",
                "GO\r\n",
                "EXEC tSQLt.Run @TestName = N'[TestUnitTesting].[test Vessel - Get all Vessels Expect success]';"
            ],
            "metadata": {
                "azdata_cell_guid": "608cb323-7912-4a51-aeba-f74823465a82"
            },
            "outputs": [],
            "execution_count": null
        },
        {
            "cell_type": "markdown",
            "source": [
                "Run all the tests"
            ],
            "metadata": {
                "azdata_cell_guid": "839d9511-6e66-4ec3-a23c-5a1e128b55e5"
            }
        },
        {
            "cell_type": "code",
            "source": [
                "USE SSDTWithtSQLt\r\n",
                "GO\r\n",
                "EXEC tSQLt.RunAll"
            ],
            "metadata": {
                "azdata_cell_guid": "b6e8c09a-36d4-480a-b69d-9aa9a4ad218d"
            },
            "outputs": [],
            "execution_count": null
        }
    ]
}