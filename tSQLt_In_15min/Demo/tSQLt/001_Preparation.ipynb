{
    "metadata": {
        "kernelspec": {
            "name": "SQL",
            "display_name": "SQL",
            "language": "sql"
        },
        "language_info": {
            "name": "sql",
            "version": ""
        }
    },
    "nbformat_minor": 2,
    "nbformat": 4,
    "cells": [
        {
            "cell_type": "markdown",
            "source": [
                "Clean up our environment"
            ],
            "metadata": {
                "azdata_cell_guid": "0e9e624b-a48e-4b28-9b7a-4977a2a71c9e"
            }
        },
        {
            "cell_type": "code",
            "source": [
                "USE master;\r\n",
                "GO\r\n",
                "DECLARE @dbname NVARCHAR(128) = N'SSDTWithtSQLt';\r\n",
                "\r\n",
                "IF (\r\n",
                "    EXISTS(\r\n",
                "        SELECT name\r\n",
                "        FROM master.dbo.sysdatabases\r\n",
                "        WHERE ('[' + name + ']' = @dbname OR name = @dbname)\r\n",
                "    )\r\n",
                ")\r\n",
                "BEGIN\r\n",
                "    ALTER DATABASE [SSDTWithtSQLt] SET SINGLE_USER WITH ROLLBACK IMMEDIATE;\r\n",
                "END\r\n",
                "GO\r\n",
                "DROP DATABASE IF EXISTS SSDTWithtSQLt;\r\n",
                "GO\r\n",
                "-- Cleanup\r\n",
                "DROP PROCEDURE IF EXISTS [dbo].[Vessel_Create];\r\n",
                "DROP PROCEDURE IF EXISTS [dbo].[Vessel_GetAll];\r\n",
                "GO"
            ],
            "metadata": {
                "azdata_cell_guid": "a3ab5ba9-9ea9-45fe-8edd-dac3bd30e225"
            },
            "outputs": [],
            "execution_count": null
        },
        {
            "cell_type": "markdown",
            "source": [
                "Create the database"
            ],
            "metadata": {
                "azdata_cell_guid": "241eb76f-59ba-438d-93dc-3ffdad01e253"
            }
        },
        {
            "cell_type": "code",
            "source": [
                "CREATE DATABASE SSDTWithtSQLt;\n",
                "GO"
            ],
            "metadata": {
                "azdata_cell_guid": "c4df26df-5d3a-4606-ba76-04ad7c57f9db"
            },
            "outputs": [],
            "execution_count": null
        },
        {
            "cell_type": "markdown",
            "source": [
                "Create the tables"
            ],
            "metadata": {
                "azdata_cell_guid": "92b804aa-6a8f-45ad-9d7a-ba4f85875753"
            }
        },
        {
            "cell_type": "code",
            "source": [
                "USE [SSDTWithtSQLt];\r\n",
                "GO\r\n",
                "DROP TABLE IF EXISTS dbo.Operator\r\n",
                "CREATE TABLE [dbo].[Operator]\r\n",
                "(\r\n",
                "    [OperatorID] [INT] IDENTITY(1, 1) NOT NULL,\r\n",
                "    [OperatorCode] CHAR(3) NOT NULL,\r\n",
                "    [OperatorName] VARCHAR(20) NOT NULL,\r\n",
                "    CONSTRAINT [PK_Operator]\r\n",
                "        PRIMARY KEY CLUSTERED ([OperatorID] ASC)\r\n",
                "        WITH (PAD_INDEX = OFF, STATISTICS_NORECOMPUTE = OFF, IGNORE_DUP_KEY = OFF, ALLOW_ROW_LOCKS = ON,ALLOW_PAGE_LOCKS = ON) ON [PRIMARY]\r\n",
                ") ON [PRIMARY];\r\n",
                "GO\r\n",
                "DROP TABLE IF EXISTS dbo.Vessel\r\n",
                "CREATE TABLE [dbo].[Vessel]\r\n",
                "(\r\n",
                "    [VesselID] [INT] IDENTITY(1, 1) NOT NULL,\r\n",
                "    [VesselCode] CHAR(3) NOT NULL,\r\n",
                "    [VesselName] [VARCHAR](30) NULL,\r\n",
                "    [TEU] int NULL,\r\n",
                "    [Plug] int NULL,\r\n",
                "    [OperatorID] INT NULL,\r\n",
                "    CONSTRAINT [PK_Vessel]\r\n",
                "        PRIMARY KEY CLUSTERED ([VesselID] ASC)\r\n",
                "        WITH (PAD_INDEX = OFF, STATISTICS_NORECOMPUTE = OFF, IGNORE_DUP_KEY = OFF, ALLOW_ROW_LOCKS = ON,ALLOW_PAGE_LOCKS = ON) ON [PRIMARY]\r\n",
                ") ON [PRIMARY];\r\n",
                "GO\r\n",
                "ALTER TABLE [dbo].[Vessel] WITH CHECK\r\n",
                "ADD CONSTRAINT [FK_Vessel_Operator]\r\n",
                "    FOREIGN KEY ([OperatorID])\r\n",
                "    REFERENCES [dbo].[Operator] ([OperatorID]);\r\n",
                "GO\r\n",
                "ALTER TABLE [dbo].[Vessel] CHECK CONSTRAINT [FK_Vessel_Operator];\r\n",
                "GO"
            ],
            "metadata": {
                "azdata_cell_guid": "db7ace39-0fd9-430d-9803-16a60b34d994"
            },
            "outputs": [],
            "execution_count": null
        },
        {
            "cell_type": "markdown",
            "source": [
                "Create the procedures"
            ],
            "metadata": {
                "azdata_cell_guid": "57add901-3431-4a86-8bb2-0c48e309b463"
            }
        },
        {
            "cell_type": "code",
            "source": [
                "USE [SSDTWithtSQLt];\r\n",
                "GO\r\n",
                "DROP PROC IF EXISTS [dbo].[Vessel_Create]\r\n",
                "GO\r\n",
                "CREATE PROCEDURE [dbo].[Vessel_Create]\r\n",
                "    @VesselID INT OUTPUT,\r\n",
                "    @VesselCode CHAR(3) = NULL, --it does not make sense but it's for demo purpose\r\n",
                "    @VesselName VARCHAR(30) = NULL,\r\n",
                "    @TEU int = NULL,\r\n",
                "    @Plug int = NULL,\r\n",
                "    @OperatorID INT = NULL\r\n",
                "AS\r\n",
                "/*\r\n",
                "<documentation>\r\n",
                "  <author>ABM040</author>\r\n",
                "  <summary>Create Operator used on Vessels</summary>\r\n",
                "  <returns>\r\n",
                "            OperatorID created\r\n",
                "   </returns>\r\n",
                "</documentation>\r\n",
                "\r\n",
                "Changes:\r\n",
                "Date\t\tWho\t\t\t\t\t\tNotes\r\n",
                "----------\t---\t\t\t\t\t\t--------------------------------------------------------------\r\n",
                "20210714\tABM040\t\t\t\t    Creation\r\n",
                "*/\r\n",
                "\r\n",
                "\r\n",
                "    -- Set session options to make sure transactions are aborted correctly\r\n",
                "    -- and the procedure doesn't return the count\r\n",
                "    SET XACT_ABORT, NOCOUNT ON;\r\n",
                "\r\n",
                "    -- Check the parameters\r\n",
                "    IF (@VesselCode IS NULL)\r\n",
                "    BEGIN\r\n",
                "        ;\r\n",
                "        THROW 50000, 'Invalid parameter: @VesselCode cannot be NULL!', 1;\r\n",
                "        RETURN;\r\n",
                "    END;\r\n",
                "\r\n",
                "    INSERT INTO dbo.Vessel\r\n",
                "    (\r\n",
                "        -- VesselID -- this column value is auto-generated\r\n",
                "        VesselCode,\r\n",
                "        VesselName,\r\n",
                "        TEU,\r\n",
                "        Plug,\r\n",
                "        OperatorID\r\n",
                "    )\r\n",
                "    VALUES\r\n",
                "    (\r\n",
                "        @VesselCode,\r\n",
                "        @VesselName,\r\n",
                "        @TEU,\r\n",
                "        @Plug,\r\n",
                "        @OperatorID\r\n",
                "    )\r\n",
                "\r\n",
                "    SELECT @VesselID = SCOPE_IDENTITY()\r\n",
                "GO\r\n",
                "DROP PROC IF EXISTS [dbo].[Vessel_GetAll]\r\n",
                "GO\r\n",
                "CREATE PROCEDURE [dbo].[Vessel_GetAll]\r\n",
                "AS\r\n",
                "/*\r\n",
                "<documentation>\r\n",
                "  <author>ABM040</author>\r\n",
                "  <summary>Get List of Vessels</summary>\r\n",
                "  <returns>\r\n",
                "            VesselID, VesselCode, VesselName, TEU, Plug, OperatorID, OperatorCode\r\n",
                "  </returns>\r\n",
                "</documentation>\r\n",
                "\r\n",
                "Changes:\r\n",
                "Date\t\tWho\t\t\t\t\t\tNotes\r\n",
                "----------\t---\t\t\t\t\t\t--------------------------------------------------------------\r\n",
                "20210714\tABM040\t\t\t\t    Creation\r\n",
                "*/\r\n",
                "SET NOCOUNT ON;\r\n",
                "\r\n",
                "SELECT v.VesselID\r\n",
                "      ,v.VesselCode\r\n",
                "      ,v.VesselName\r\n",
                "      ,v.TEU\r\n",
                "      ,v.Plug\r\n",
                "      ,v.OperatorID\r\n",
                "      ,o.OperatorCode\r\n",
                "FROM [dbo].[Vessel] v \r\n",
                "LEFT JOIN [dbo].[Operator] o on o.OperatorID = v.OperatorID\r\n",
                "GO"
            ],
            "metadata": {
                "azdata_cell_guid": "29a4d680-86cf-4f12-86b2-d8d4b7fb5aaa"
            },
            "outputs": [],
            "execution_count": null
        }
    ]
}