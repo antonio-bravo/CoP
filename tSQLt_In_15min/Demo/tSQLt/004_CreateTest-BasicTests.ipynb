{
    "metadata": {
        "kernelspec": {
            "name": "SQL",
            "display_name": "SQL",
            "language": "sql"
        },
        "language_info": {
            "name": "sql",
            "version": ""
        }
    },
    "nbformat_minor": 2,
    "nbformat": 4,
    "cells": [
        {
            "cell_type": "markdown",
            "source": [
                "Cleanup and Create the tests"
            ],
            "metadata": {
                "azdata_cell_guid": "fc464a4e-cb05-401c-9e5e-2c701655c749"
            }
        },
        {
            "cell_type": "code",
            "source": [
                "DROP PROC IF EXISTS [TestBasic].[test If table dbo.Vessel exists]\r\n",
                "GO\r\n",
                "CREATE PROC [TestBasic].[test If table dbo.Vessel exists]\r\n",
                "AS\r\n",
                "/*\r\n",
                "<documentation>\r\n",
                "  <author>ABM040</author>\r\n",
                "  <summary>test if dbo.Vessel exists</summary>\r\n",
                "  <returns>nothing</returns>\r\n",
                "</documentation>\r\n",
                "\r\n",
                "Changes:\r\n",
                "Date\t\tWho\t\t\t\t\t\tNotes\r\n",
                "----------\t---\t\t\t\t\t\t--------------------------------------------------------------\r\n",
                "20210714\tABM040\t\t\t\t    Creation\r\n",
                "*/\r\n",
                "    SET NOCOUNT ON;\r\n",
                "\r\n",
                "    ----- ASSERT -------------------------------------------------\r\n",
                "    EXEC tSQLt.AssertObjectExists @ObjectName = N'dbo.Vessel'; -- This will fail because the table Vessel does not exist\r\n",
                "\r\n",
                "GO\r\n",
                "DROP PROC IF EXISTS [TestBasic].[test If table dbo.Operator exists]\r\n",
                "GO\r\n",
                "CREATE PROC [TestBasic].[test If table dbo.Operator exists]\r\n",
                "AS\r\n",
                "/*\r\n",
                "<documentation>\r\n",
                "  <author>ABM040</author>\r\n",
                "  <summary>test if dbo.Operator exists</summary>\r\n",
                "  <returns>nothing</returns>\r\n",
                "</documentation>\r\n",
                "\r\n",
                "Changes:\r\n",
                "Date\t\tWho\t\t\t\t\t\tNotes\r\n",
                "----------\t---\t\t\t\t\t\t--------------------------------------------------------------\r\n",
                "20210714\tABM040\t\t\t\t    Creation\r\n",
                "*/\r\n",
                "    SET NOCOUNT ON;\r\n",
                "\r\n",
                "    ----- ASSERT -------------------------------------------------\r\n",
                "    EXEC tSQLt.AssertObjectExists @ObjectName = N'dbo.OperatorTYPO';\r\n",
                "GO"
            ],
            "metadata": {
                "azdata_cell_guid": "8565de84-fd5e-42a5-ade9-0e3a930eccc4"
            },
            "outputs": [],
            "execution_count": null
        },
        {
            "cell_type": "markdown",
            "source": [
                "Run all the tests"
            ],
            "metadata": {
                "azdata_cell_guid": "b49b2ea6-eee1-40c8-9c63-40b98867e7e2"
            }
        },
        {
            "cell_type": "code",
            "source": [
                "EXEC tSQLt.RunAll;"
            ],
            "metadata": {
                "azdata_cell_guid": "30c2442f-96ef-448c-a64e-c90d41d8546a"
            },
            "outputs": [],
            "execution_count": null
        },
        {
            "cell_type": "markdown",
            "source": [
                "Ohoh, it failed. Let's fix it"
            ],
            "metadata": {
                "azdata_cell_guid": "ea3c7e84-43f8-4d19-b6af-61716819e5ac"
            }
        },
        {
            "cell_type": "code",
            "source": [
                "DROP PROC IF EXISTS [TestBasic].[test If table dbo.Operator exists]\r\n",
                "GO\r\n",
                "CREATE PROC [TestBasic].[test If table dbo.Operator exists]\r\n",
                "AS\r\n",
                "/*\r\n",
                "<documentation>\r\n",
                "  <author>ABM040</author>\r\n",
                "  <summary>test if dbo.Operator exists</summary>\r\n",
                "  <returns>nothing</returns>\r\n",
                "</documentation>\r\n",
                "\r\n",
                "Changes:\r\n",
                "Date\t\tWho\t\t\t\t\t\tNotes\r\n",
                "----------\t---\t\t\t\t\t\t--------------------------------------------------------------\r\n",
                "20210714\tABM040\t\t\t\t    Creation\r\n",
                "*/\r\n",
                "    SET NOCOUNT ON;\r\n",
                "\r\n",
                "    ----- ASSERT -------------------------------------------------\r\n",
                "    EXEC tSQLt.AssertObjectExists @ObjectName = N'dbo.Operator';\r\n",
                "GO"
            ],
            "metadata": {
                "azdata_cell_guid": "7ba903dd-a90c-44fc-8f7b-7fc157a11146"
            },
            "outputs": [],
            "execution_count": null
        },
        {
            "cell_type": "markdown",
            "source": [
                "Run the tests again"
            ],
            "metadata": {
                "azdata_cell_guid": "8c3dc247-e635-4dab-a9ca-e2e28a56a014"
            }
        },
        {
            "cell_type": "code",
            "source": [
                "EXEC tSQLt.RunAll;"
            ],
            "metadata": {
                "azdata_cell_guid": "923fda12-0877-4f25-885b-65679dc22232"
            },
            "outputs": [],
            "execution_count": null
        },
        {
            "cell_type": "markdown",
            "source": [
                "Run specific test"
            ],
            "metadata": {
                "azdata_cell_guid": "7c84ddd9-0f50-4b85-a82e-558ae98b9f61"
            }
        },
        {
            "cell_type": "code",
            "source": [
                "EXEC tSQLt.Run @TestName = N'[TestBasic].[test If table dbo.Vessel exists]';"
            ],
            "metadata": {
                "azdata_cell_guid": "8fb3eb02-c582-40e2-acc9-0eeaa3733c13"
            },
            "outputs": [],
            "execution_count": null
        }
    ]
}