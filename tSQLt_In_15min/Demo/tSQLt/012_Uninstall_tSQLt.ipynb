{
    "metadata": {
        "kernelspec": {
            "name": "SQL",
            "display_name": "SQL",
            "language": "sql"
        },
        "language_info": {
            "name": "sql",
            "version": ""
        }
    },
    "nbformat_minor": 2,
    "nbformat": 4,
    "cells": [
        {
            "cell_type": "markdown",
            "source": [
                "Output for Results in XML format for Pipeline"
            ],
            "metadata": {
                "azdata_cell_guid": "eae461e2-e2f4-4a0f-ac7c-71c470e4cdcd"
            }
        },
        {
            "cell_type": "code",
            "source": [
                "use SSDTWithtSQLt\r\n",
                "GO\r\n",
                "EXEC tSQLt.XmlResultFormatter"
            ],
            "metadata": {
                "azdata_cell_guid": "f7fe1b42-36d0-4353-bf7a-f7c5f0a118d2"
            },
            "outputs": [],
            "execution_count": null
        },
        {
            "cell_type": "markdown",
            "source": [
                "Uninstall tSQLt Framework keeping our test"
            ],
            "metadata": {
                "azdata_cell_guid": "0e9e624b-a48e-4b28-9b7a-4977a2a71c9e"
            }
        },
        {
            "cell_type": "code",
            "source": [
                "USE SSDTWithtSQLt\r\n",
                "GO\r\n",
                "EXEC [tSQLt].[Uninstall]"
            ],
            "metadata": {
                "azdata_cell_guid": "a3ab5ba9-9ea9-45fe-8edd-dac3bd30e225"
            },
            "outputs": [],
            "execution_count": null
        }
    ]
}