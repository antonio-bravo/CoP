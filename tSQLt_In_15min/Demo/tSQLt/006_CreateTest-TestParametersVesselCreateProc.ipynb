{
    "metadata": {
        "kernelspec": {
            "name": "SQL",
            "display_name": "SQL",
            "language": "sql"
        },
        "language_info": {
            "name": "sql",
            "version": ""
        }
    },
    "nbformat_minor": 2,
    "nbformat": 4,
    "cells": [
        {
            "cell_type": "markdown",
            "source": [
                "Cleanup"
            ],
            "metadata": {
                "azdata_cell_guid": "06fbe181-1a65-4891-a78a-8caf23dfb1aa"
            }
        },
        {
            "cell_type": "code",
            "source": [
                "USE SSDTWithtSQLt;\r\n",
                "GO\r\n",
                "DROP PROC IF EXISTS [TestBasic].[test If procedure dbo.Vessel_Create has the correct parameters];\r\n",
                "GO"
            ],
            "metadata": {
                "azdata_cell_guid": "f4287dfa-3642-4fe6-942e-75f2140ab1e4"
            },
            "outputs": [],
            "execution_count": null
        },
        {
            "cell_type": "markdown",
            "source": [
                "Create test"
            ],
            "metadata": {
                "azdata_cell_guid": "c745b017-ca9f-432d-9764-1f4a0e9d548c"
            }
        },
        {
            "cell_type": "code",
            "source": [
                "USE [SSDTWithtSQLt]\r\n",
                "GO\r\n",
                "CREATE PROCEDURE [TestBasic].[test If procedure dbo.Vessel_Create has the correct parameters]\r\n",
                "AS\r\n",
                "/*\r\n",
                "<documentation>\r\n",
                "  <author>ABM040</author>\r\n",
                "  <summary>test if dbo.Vessel_Create has the correct parameters</summary>\r\n",
                "  <returns>nothing</returns>\r\n",
                "</documentation>\r\n",
                "\r\n",
                "Changes:\r\n",
                "Date\t\tWho\t\t\t\t\t\tNotes\r\n",
                "----------\t---\t\t\t\t\t\t--------------------------------------------------------------\r\n",
                "20210714\tABM040\t\t\t\t    Creation\r\n",
                "*/\r\n",
                "    SET NOCOUNT ON;\r\n",
                "\r\n",
                "    ----- ASSEMBLE -----------------------------------------------\r\n",
                "    -- Create the tables\r\n",
                "    CREATE TABLE #actual\r\n",
                "    (\r\n",
                "        [ParameterName] NVARCHAR(128) NOT NULL,\r\n",
                "        [DataType] sysname NOT NULL,\r\n",
                "        [LengthSize] SMALLINT NOT NULL,\r\n",
                "        [Precision] TINYINT NOT NULL\r\n",
                "    );\r\n",
                "\r\n",
                "    CREATE TABLE #expected\r\n",
                "    (\r\n",
                "        [ParameterName] NVARCHAR(128) NOT NULL,\r\n",
                "        [DataType] sysname NOT NULL,\r\n",
                "        [LengthSize] SMALLINT NOT NULL,\r\n",
                "        [Precision] TINYINT NOT NULL\r\n",
                "    );\r\n",
                "\r\n",
                "    INSERT INTO #expected\r\n",
                "    (\r\n",
                "        ParameterName,\r\n",
                "        DataType,\r\n",
                "        LengthSize,\r\n",
                "        Precision\r\n",
                "    )\r\n",
                "    VALUES\r\n",
                "    (   N'@VesselID',   -- ParameterName - nvarchar(128)\r\n",
                "        'int',          -- DataType - sysname\r\n",
                "        4,              -- LengthSize - smallint\r\n",
                "        10              -- Precision - tinyint\r\n",
                "        ),\r\n",
                "    (   N'@VesselCode', -- ParameterName - nvarchar(128)\r\n",
                "        'char',         -- DataType - sysname\r\n",
                "        3,              -- LengthSize - smallint\r\n",
                "        0               -- Precision - tinyint\r\n",
                "    ),\r\n",
                "    (   N'@VesselName', -- ParameterName - nvarchar(128)\r\n",
                "        'varchar',      -- DataType - sysname\r\n",
                "        30,             -- LengthSize - smallint\r\n",
                "        0               -- Precision - tinyint\r\n",
                "    ),\r\n",
                "    (   N'@TEU',        -- ParameterName - nvarchar(128)\r\n",
                "        'int',          -- DataType - sysname\r\n",
                "        4,              -- LengthSize - smallint\r\n",
                "        10              -- Precision - tinyint\r\n",
                "    ),\r\n",
                "    (   N'@Plug',       -- ParameterName - nvarchar(128)\r\n",
                "        'varchar',      -- DataType - sysname\r\n",
                "        50,             -- LengthSize - smallint\r\n",
                "        0               -- Precision - tinyint\r\n",
                "    ),\r\n",
                "    (   N'@OperatorID', -- ParameterName - nvarchar(128)\r\n",
                "        'int',          -- DataType - sysname\r\n",
                "        4,              -- LengthSize - smallint\r\n",
                "        10              -- Precision - tinyint\r\n",
                "    );\r\n",
                "    ----- ACT ----------------------------------------------------\r\n",
                "\r\n",
                "    INSERT INTO #actual\r\n",
                "    (\r\n",
                "        ParameterName,\r\n",
                "        DataType,\r\n",
                "        LengthSize,\r\n",
                "        Precision\r\n",
                "    )\r\n",
                "    SELECT pm.name                    AS ParameterName\r\n",
                "        ,t.name                     AS DataType\r\n",
                "        ,pm.max_length              AS LengthSize\r\n",
                "        ,pm.precision               AS [Precision]\r\n",
                "    FROM   sys.parameters             AS pm\r\n",
                "        INNER JOIN sys.procedures  AS ps\r\n",
                "                ON  pm.object_id = ps.object_id\r\n",
                "        INNER JOIN sys.schemas s\r\n",
                "                ON  s.[schema_id] = ps.[schema_id]\r\n",
                "        INNER JOIN sys.types       AS t\r\n",
                "                ON  pm.system_type_id = t.system_type_id\r\n",
                "                AND pm.user_type_id = t.user_type_id\r\n",
                "    WHERE  s.name = 'dbo'\r\n",
                "        AND ps.name = 'Vessel_Create';\r\n",
                "\r\n",
                "\r\n",
                "    ----- ASSERT -------------------------------------------------\r\n",
                "\r\n",
                "    -- Assert to have th same table\r\n",
                "    EXEC tSQLt.AssertEqualsTable @Expected = '#expected', @Actual = '#actual';\r\n",
                "\r\n",
                "GO"
            ],
            "metadata": {
                "azdata_cell_guid": "fe1b8620-8d88-4b11-b380-2028ac649007"
            },
            "outputs": [],
            "execution_count": null
        },
        {
            "cell_type": "markdown",
            "source": [
                "Run the test see results in SSMS"
            ],
            "metadata": {
                "azdata_cell_guid": "aef92a04-f3ab-4e56-b457-168b375e6770"
            }
        },
        {
            "cell_type": "code",
            "source": [
                "USE [SSDTWithtSQLt]\r\n",
                "GO\r\n",
                "EXEC tSQLt.Run @TestName = N'[TestBasic].[test If procedure dbo.Vessel_Create has the correct parameters]';"
            ],
            "metadata": {
                "azdata_cell_guid": "59bba67a-5102-410b-93bf-1734d8fe4b8f"
            },
            "outputs": [],
            "execution_count": null
        },
        {
            "cell_type": "markdown",
            "source": [
                "Fix the Test"
            ],
            "metadata": {
                "azdata_cell_guid": "c7a2be52-c995-43fb-b896-39fc79f2e247"
            }
        },
        {
            "cell_type": "code",
            "source": [
                "USE [SSDTWithtSQLt]\r\n",
                "GO\r\n",
                "DROP PROC IF EXISTS [TestBasic].[test If procedure dbo.Vessel_Create has the correct parameters];\r\n",
                "GO\r\n",
                "CREATE PROCEDURE [TestBasic].[test If procedure dbo.Vessel_Create has the correct parameters]\r\n",
                "AS\r\n",
                "/*\r\n",
                "<documentation>\r\n",
                "  <author>ABM040</author>\r\n",
                "  <summary>test if dbo.Vessel_Create has the correct parameters</summary>\r\n",
                "  <returns>nothing</returns>\r\n",
                "</documentation>\r\n",
                "\r\n",
                "Changes:\r\n",
                "Date\t\tWho\t\t\t\t\t\tNotes\r\n",
                "----------\t---\t\t\t\t\t\t--------------------------------------------------------------\r\n",
                "20210714\tABM040\t\t\t\t    Creation\r\n",
                "*/\r\n",
                "    SET NOCOUNT ON;\r\n",
                "\r\n",
                "    ----- ASSEMBLE -----------------------------------------------\r\n",
                "    -- Create the tables\r\n",
                "    CREATE TABLE #actual\r\n",
                "    (\r\n",
                "        [ParameterName] NVARCHAR(128) NOT NULL,\r\n",
                "        [DataType] sysname NOT NULL,\r\n",
                "        [LengthSize] SMALLINT NOT NULL,\r\n",
                "        [Precision] TINYINT NOT NULL\r\n",
                "    );\r\n",
                "\r\n",
                "    CREATE TABLE #expected\r\n",
                "    (\r\n",
                "        [ParameterName] NVARCHAR(128) NOT NULL,\r\n",
                "        [DataType] sysname NOT NULL,\r\n",
                "        [LengthSize] SMALLINT NOT NULL,\r\n",
                "        [Precision] TINYINT NOT NULL\r\n",
                "    );\r\n",
                "\r\n",
                "    INSERT INTO #expected\r\n",
                "    (\r\n",
                "        ParameterName,\r\n",
                "        DataType,\r\n",
                "        LengthSize,\r\n",
                "        Precision\r\n",
                "    )\r\n",
                "    VALUES\r\n",
                "    (   N'@VesselID',   -- ParameterName - nvarchar(128)\r\n",
                "        'int',          -- DataType - sysname\r\n",
                "        4,              -- LengthSize - smallint\r\n",
                "        10              -- Precision - tinyint\r\n",
                "        ),\r\n",
                "    (   N'@VesselCode', -- ParameterName - nvarchar(128)\r\n",
                "        'char',         -- DataType - sysname\r\n",
                "        3,              -- LengthSize - smallint\r\n",
                "        0               -- Precision - tinyint\r\n",
                "    ),\r\n",
                "    (   N'@VesselName', -- ParameterName - nvarchar(128)\r\n",
                "        'varchar',      -- DataType - sysname\r\n",
                "        30,             -- LengthSize - smallint\r\n",
                "        0               -- Precision - tinyint\r\n",
                "    ),\r\n",
                "    (   N'@TEU',        -- ParameterName - nvarchar(128)\r\n",
                "        'int',          -- DataType - sysname\r\n",
                "        4,              -- LengthSize - smallint\r\n",
                "        10              -- Precision - tinyint\r\n",
                "    ),\r\n",
                "    (   N'@Plug',       -- ParameterName - nvarchar(128)\r\n",
                "        'int',          -- DataType - sysname\r\n",
                "        4,              -- LengthSize - smallint\r\n",
                "        10              -- Precision - tinyint\r\n",
                "    ),\r\n",
                "    (   N'@OperatorID', -- ParameterName - nvarchar(128)\r\n",
                "        'int',          -- DataType - sysname\r\n",
                "        4,              -- LengthSize - smallint\r\n",
                "        10              -- Precision - tinyint\r\n",
                "    );\r\n",
                "    ----- ACT ----------------------------------------------------\r\n",
                "\r\n",
                "    INSERT INTO #actual\r\n",
                "    (\r\n",
                "        ParameterName,\r\n",
                "        DataType,\r\n",
                "        LengthSize,\r\n",
                "        Precision\r\n",
                "    )\r\n",
                "    SELECT pm.name                    AS ParameterName\r\n",
                "        ,t.name                     AS DataType\r\n",
                "        ,pm.max_length              AS LengthSize\r\n",
                "        ,pm.precision               AS [Precision]\r\n",
                "    FROM   sys.parameters             AS pm\r\n",
                "        INNER JOIN sys.procedures  AS ps\r\n",
                "                ON  pm.object_id = ps.object_id\r\n",
                "        INNER JOIN sys.schemas s\r\n",
                "                ON  s.[schema_id] = ps.[schema_id]\r\n",
                "        INNER JOIN sys.types       AS t\r\n",
                "                ON  pm.system_type_id = t.system_type_id\r\n",
                "                AND pm.user_type_id = t.user_type_id\r\n",
                "    WHERE  s.name = 'dbo'\r\n",
                "        AND ps.name = 'Vessel_Create';\r\n",
                "\r\n",
                "\r\n",
                "    ----- ASSERT -------------------------------------------------\r\n",
                "\r\n",
                "    -- Assert to have th same table\r\n",
                "    EXEC tSQLt.AssertEqualsTable @Expected = '#expected', @Actual = '#actual';\r\n",
                "\r\n",
                "GO"
            ],
            "metadata": {
                "azdata_cell_guid": "903a55c8-3327-4717-abc0-6e6f9827dc85"
            },
            "outputs": [],
            "execution_count": null
        },
        {
            "cell_type": "code",
            "source": [
                "USE [SSDTWithtSQLt]\r\n",
                "GO\r\n",
                "EXEC tSQLt.Run @TestName = N'[TestBasic].[test If procedure dbo.Vessel_Create has the correct parameters]';"
            ],
            "metadata": {
                "azdata_cell_guid": "f5b1cabb-14ee-4e32-9adc-76c28ef8852e"
            },
            "outputs": [],
            "execution_count": null
        },
        {
            "cell_type": "markdown",
            "source": [
                "Run all the tests"
            ],
            "metadata": {
                "azdata_cell_guid": "9c17db8b-1a33-4cff-9525-321fda04d752"
            }
        },
        {
            "cell_type": "code",
            "source": [
                "USE [SSDTWithtSQLt]\r\n",
                "GO\r\n",
                "EXEC tSQLt.RunAll"
            ],
            "metadata": {
                "azdata_cell_guid": "fee9f710-8fd2-4d7c-88e2-541bf5bf2c92"
            },
            "outputs": [],
            "execution_count": null
        }
    ]
}